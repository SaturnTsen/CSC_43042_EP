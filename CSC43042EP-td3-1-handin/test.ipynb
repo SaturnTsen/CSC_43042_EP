{
 "cells": [
  {
   "cell_type": "markdown",
   "metadata": {},
   "source": [
    "### Exercise 1"
   ]
  },
  {
   "cell_type": "code",
   "execution_count": 3,
   "metadata": {},
   "outputs": [],
   "source": [
    "from TD.graph import Edge\n",
    "\n",
    "e_0 = Edge(4, 5, 1.7)\n",
    "e_1 = Edge(0, 1, 10.0)\n",
    "e_2 = Edge(0, 1, 2.3)\n",
    "e_3 = Edge(2, 3, 10.0)\n",
    "print(e_0 < e_2 < e_1)  # Should evaluate to True\n",
    "print(e_1 < e_3)        # Should evaluate to False\n",
    "print(e_2 < e_0)        # Should evaluate to False"
   ]
  },
  {
   "cell_type": "code",
   "execution_count": 5,
   "metadata": {},
   "outputs": [],
   "source": [
    "edgelist = [e_0, e_1, e_2, e_3]\n",
    "print(edgelist)\n",
    "edgelist.sort() \n",
    "print(edgelist)"
   ]
  },
  {
   "cell_type": "markdown",
   "metadata": {},
   "source": [
    "### Exercise 2 & 3"
   ]
  },
  {
   "cell_type": "code",
   "execution_count": 6,
   "metadata": {},
   "outputs": [],
   "source": [
    "from TD.graph import Graph, Edge\n",
    "g = Graph()\n",
    "g.add_nodes([])\n",
    "print(g)\n",
    "g.add_edges([])\n",
    "print(g)\n",
    "g.add_nodes(['A', 'B', 'C'])\n",
    "print(g)\n",
    "g.add_edges([Edge(0, 1, 1.2), Edge(0, 2, -1)])\n",
    "print(g)"
   ]
  },
  {
   "cell_type": "markdown",
   "metadata": {},
   "source": [
    "### Exercise 4"
   ]
  },
  {
   "cell_type": "code",
   "execution_count": 7,
   "metadata": {},
   "outputs": [],
   "source": [
    "from TD.cloud import Cloud\n",
    "from TD.graph import *\n",
    "c = Cloud()\n",
    "c.add_point(Point([1.0, 0.0, 0.0], 'x'))\n",
    "c.add_point(Point([0.0, 1.0, 0.0], 'y'))\n",
    "c.add_point(Point([0.0, 0.0, 1.0], 'z'))\n",
    "print(c)\n",
    "\n",
    "g = graph_from_cloud(c)\n",
    "print(g)"
   ]
  },
  {
   "cell_type": "markdown",
   "metadata": {},
   "source": [
    "### Exercise 5"
   ]
  },
  {
   "cell_type": "code",
   "execution_count": 8,
   "metadata": {},
   "outputs": [],
   "source": [
    "from TD.graph import *\n",
    "nodes = ['A', 'B', 'C']\n",
    "lengths = [[0,1,2],[1,0,3],[2,3,0]]\n",
    "g = graph_from_matrix(nodes, lengths)\n",
    "print(g)"
   ]
  },
  {
   "cell_type": "markdown",
   "metadata": {},
   "source": [
    "### Exercise 6"
   ]
  },
  {
   "cell_type": "code",
   "execution_count": 1,
   "metadata": {},
   "outputs": [],
   "source": [
    "from TD.graph import *\n",
    "nodes = ['A', 'B', 'C']\n",
    "lengths = [[0,1,2],[1,0,3],[2,3,0]]\n",
    "g = graph_from_matrix(nodes, lengths)\n",
    "print(g)\n"
   ]
  },
  {
   "cell_type": "code",
   "execution_count": 4,
   "metadata": {},
   "outputs": [],
   "source": [
    "g = graph_from_matrix_file('csv/languages.csv')\n",
    "print(g)"
   ]
  },
  {
   "cell_type": "markdown",
   "metadata": {},
   "source": [
    "### Exercise 7"
   ]
  },
  {
   "cell_type": "code",
   "execution_count": 1,
   "metadata": {},
   "outputs": [],
   "source": [
    "from TD.graph import *\n",
    "from TD.dendrogram import *\n",
    "g = Graph()\n",
    "g.add_nodes(['A', 'B', 'C', 'D', 'E'])\n",
    "d = Dendrogram(g)\n",
    "print(d)"
   ]
  },
  {
   "cell_type": "code",
   "execution_count": 2,
   "metadata": {},
   "outputs": [],
   "source": [
    "[d.find_rep(i) for i in range(5)]"
   ]
  },
  {
   "cell_type": "code",
   "execution_count": 3,
   "metadata": {},
   "outputs": [],
   "source": [
    "d.parent = [1, 2, -1, 4, -1]\n",
    "[d.find_rep(i) for i in range(5)]"
   ]
  },
  {
   "cell_type": "code",
   "execution_count": 4,
   "metadata": {},
   "outputs": [],
   "source": [
    "print(d)"
   ]
  },
  {
   "cell_type": "markdown",
   "metadata": {},
   "source": [
    "## Exercise 8"
   ]
  },
  {
   "cell_type": "code",
   "execution_count": 1,
   "metadata": {},
   "outputs": [],
   "source": [
    "from TD.cloud import *\n",
    "from TD.graph import *\n",
    "from TD.dendrogram import *\n",
    "p1 = Point([0.0, 0.0], name='O')\n",
    "p2 = Point([1.0, 0.0], name='A')\n",
    "p3 = Point([1.0, 0.5], name='B')\n",
    "p4 = Point([1.0, 2.0], name='C')\n",
    "c = Cloud()\n",
    "c.add_point(p1)\n",
    "c.add_point(p2)\n",
    "c.add_point(p3)\n",
    "c.add_point(p4)\n",
    "g = graph_from_cloud(c)\n",
    "d = Dendrogram(g)\n",
    "print(d)"
   ]
  },
  {
   "cell_type": "code",
   "execution_count": 2,
   "metadata": {},
   "outputs": [],
   "source": [
    "print(g)"
   ]
  },
  {
   "cell_type": "code",
   "execution_count": null,
   "metadata": {},
   "outputs": [],
   "source": [
    "d.merge(g.edges[0])\n",
    "print(d)"
   ]
  },
  {
   "cell_type": "code",
   "execution_count": 5,
   "metadata": {},
   "outputs": [],
   "source": [
    "d.merge(g.edges[1])\n",
    "print(d)"
   ]
  },
  {
   "cell_type": "markdown",
   "metadata": {},
   "source": [
    "## Exercise 9"
   ]
  },
  {
   "cell_type": "code",
   "execution_count": 1,
   "metadata": {},
   "outputs": [],
   "source": [
    "from TD.cloud import *\n",
    "from TD.graph import *\n",
    "from TD.dendrogram import *\n",
    "c = Cloud()\n",
    "for x in [0.0, 1.0, 3.0, 4.0, 9.0]:\n",
    "    c.add_point(Point([x]))\n",
    "g = graph_from_cloud(c)\n",
    "print(g)"
   ]
  },
  {
   "cell_type": "code",
   "execution_count": 2,
   "metadata": {},
   "outputs": [],
   "source": [
    "d = Dendrogram(g)\n",
    "print(d)"
   ]
  },
  {
   "cell_type": "code",
   "execution_count": 3,
   "metadata": {},
   "outputs": [],
   "source": [
    "d.build()\n",
    "print(d)"
   ]
  },
  {
   "cell_type": "markdown",
   "metadata": {},
   "source": [
    "### Exercise 10"
   ]
  },
  {
   "cell_type": "code",
   "execution_count": 1,
   "metadata": {},
   "outputs": [],
   "source": [
    "from TD.cloud import *\n",
    "from TD.graph import *\n",
    "from TD.dendrogram import *\n",
    "c = Cloud()\n",
    "for x in [0.0, 1.0, 3.0, 4.0, 9.0]:\n",
    "    c.add_point(Point([x]))\n",
    "\n",
    "g = graph_from_cloud(c)\n",
    "d = Dendrogram(g)\n",
    "d.build()\n",
    "print(d)"
   ]
  },
  {
   "cell_type": "code",
   "execution_count": 2,
   "metadata": {},
   "outputs": [],
   "source": [
    "d.set_clusters(0.5)\n",
    "print(d)"
   ]
  },
  {
   "cell_type": "code",
   "execution_count": 5,
   "metadata": {},
   "outputs": [],
   "source": [
    "d.clear_clusters()\n",
    "d.set_clusters(1)\n",
    "print(d)"
   ]
  },
  {
   "cell_type": "code",
   "execution_count": 6,
   "metadata": {},
   "outputs": [],
   "source": [
    "c = Cloud()\n",
    "for x in [0.0, 1.0, 3.0, 4.0, 9.0]:\n",
    "    c.add_point(Point([x]))\n",
    "\n",
    "g = graph_from_cloud(c)\n",
    "d = Dendrogram(g)\n",
    "d.build()\n",
    "print(d)"
   ]
  },
  {
   "cell_type": "code",
   "execution_count": 7,
   "metadata": {},
   "outputs": [],
   "source": [
    "d.set_clusters(0.5)\n",
    "print(d)"
   ]
  },
  {
   "cell_type": "code",
   "execution_count": 8,
   "metadata": {},
   "outputs": [],
   "source": [
    "d.clear_clusters()\n",
    "d.set_clusters(1)\n",
    "print(d)"
   ]
  },
  {
   "cell_type": "markdown",
   "metadata": {},
   "source": [
    "### Exercise 11"
   ]
  },
  {
   "cell_type": "code",
   "execution_count": 1,
   "metadata": {},
   "outputs": [],
   "source": [
    "from TD.cloud import *\n",
    "from TD.graph import *\n",
    "from TD.dendrogram import *\n",
    "c = Cloud()\n",
    "for x in [0.0, 1.0, 3.0, 4.0, 9.0]:\n",
    "    c.add_point(Point([x]))\n",
    "\n",
    "g = graph_from_cloud(c)\n",
    "d = Dendrogram(g)\n",
    "d.build()"
   ]
  },
  {
   "cell_type": "code",
   "execution_count": 2,
   "metadata": {},
   "outputs": [],
   "source": [
    "d.set_clusters(0.1)\n",
    "print(d)\n",
    "d.count_ns_clusters()"
   ]
  },
  {
   "cell_type": "code",
   "execution_count": 3,
   "metadata": {},
   "outputs": [],
   "source": [
    "d.clear_clusters()\n",
    "d.set_clusters(0.5)\n",
    "print(d)\n",
    "d.count_ns_clusters()"
   ]
  },
  {
   "cell_type": "code",
   "execution_count": 4,
   "metadata": {},
   "outputs": [],
   "source": [
    "d.clear_clusters()\n",
    "d.set_clusters(1)\n",
    "print(d)\n",
    "d.count_ns_clusters()"
   ]
  },
  {
   "cell_type": "markdown",
   "metadata": {},
   "source": [
    "### Exercise 12"
   ]
  },
  {
   "cell_type": "code",
   "execution_count": 1,
   "metadata": {},
   "outputs": [],
   "source": [
    "from TD.cloud import *\n",
    "from TD.graph import *\n",
    "from TD.dendrogram import *\n",
    "c = Cloud()\n",
    "for x in [0.0, 1.0, 3.0, 4.0, 9.0]:\n",
    "    c.add_point(Point([x]))\n",
    "\n",
    "g = graph_from_cloud(c)\n",
    "d = Dendrogram(g)\n",
    "d.build()"
   ]
  },
  {
   "cell_type": "code",
   "execution_count": 2,
   "metadata": {},
   "outputs": [],
   "source": [
    "d.clear_clusters()\n",
    "d.set_clusters(0.1)\n",
    "print(d)\n",
    "d.count_ns_clusters()\n",
    "[ d.get_cluster_height(i) for i in range(5) ]"
   ]
  },
  {
   "cell_type": "code",
   "execution_count": 3,
   "metadata": {},
   "outputs": [],
   "source": [
    "d.clear_clusters()\n",
    "d.set_clusters(0.5)\n",
    "print(d)\n",
    "d.count_ns_clusters()\n",
    "[ d.get_cluster_height(i) for i in range(5) ]"
   ]
  },
  {
   "cell_type": "code",
   "execution_count": 4,
   "metadata": {},
   "outputs": [],
   "source": [
    "d.clear_clusters()\n",
    "d.set_clusters(2.0)\n",
    "print(d)\n",
    "d.count_ns_clusters()\n",
    "[ d.get_cluster_height(i) for i in range(5) ]"
   ]
  },
  {
   "cell_type": "code",
   "execution_count": 5,
   "metadata": {},
   "outputs": [],
   "source": [
    "d.clear_clusters()\n",
    "d.set_clusters(2.5)\n",
    "print(d)\n",
    "d.count_ns_clusters()\n",
    "[ d.get_cluster_height(i) for i in range(5) ]"
   ]
  }
 ],
 "metadata": {
  "kernelspec": {
   "display_name": "py312",
   "language": "python",
   "name": "python3"
  },
  "language_info": {
   "codemirror_mode": {
    "name": "ipython",
    "version": 3
   },
   "file_extension": ".py",
   "mimetype": "text/x-python",
   "name": "python",
   "nbconvert_exporter": "python",
   "pygments_lexer": "ipython3",
   "version": "3.12.9"
  }
 },
 "nbformat": 4,
 "nbformat_minor": 2
}
